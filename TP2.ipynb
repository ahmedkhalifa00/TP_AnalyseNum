{
 "cells": [
  {
   "cell_type": "markdown",
   "id": "af627277-a7ff-4c25-8bb7-493759dec44b",
   "metadata": {},
   "source": [
    "<img src=\"images/isitcomlogo.png\" align=\"right\" width=\"167\" height=\"89\" >"
   ]
  },
  {
   "cell_type": "markdown",
   "id": "4af572b3-c214-4fcd-a98a-3aac502c3ae3",
   "metadata": {},
   "source": [
    "# <FONT color=\"#253186\">Compte Rendu TP2:</FONT>"
   ]
  },
  {
   "cell_type": "markdown",
   "id": "f5a16f85-d1bb-4851-85be-ce9c364839fd",
   "metadata": {},
   "source": [
    "## <FONT color=\"#4E93E5\">Réalisé par : Ahmed KHALIFA                                                                2DNI2</FONT>"
   ]
  },
  {
   "cell_type": "code",
   "execution_count": null,
   "id": "572cf368-9346-45e6-ad16-d6fa3ed8f6c6",
   "metadata": {},
   "outputs": [],
   "source": []
  }
 ],
 "metadata": {
  "kernelspec": {
   "display_name": "Python 3 (ipykernel)",
   "language": "python",
   "name": "python3"
  },
  "language_info": {
   "codemirror_mode": {
    "name": "ipython",
    "version": 3
   },
   "file_extension": ".py",
   "mimetype": "text/x-python",
   "name": "python",
   "nbconvert_exporter": "python",
   "pygments_lexer": "ipython3",
   "version": "3.7.10"
  }
 },
 "nbformat": 4,
 "nbformat_minor": 5
},
  {
   "cell_type": "markdown",
   "metadata": {},
   "source": [
    "## Exercice 1"
   ]
  },
  {
   "cell_type": "markdown",
   "metadata": {},
   "source": [
    "$$P_n(x)=\\sum_{k=0}^{n-1} y_kL_k(x)$$\n",
    "\n",
    "avec $L_{0}(x)=\\displaystyle\\frac{(x-x_1)(x-x_2)(x-x_{n-1})}{(x_0-x_1)(x_0-x_2)(x_0-x_{n-1})}$"
   ]
  },
  {
   "cell_type": "markdown",
   "metadata": {},
   "source": [
    "1) Que renvoie la fonction PR lorsqu'on lui déclare  x=(x(1),x(2),...,x(n))x=(x(1),x(2),...,x(n))  et  y=(y(1),y(2),...,y(n))y=(y(1),y(2),...,y(n))  deux vecteurs de même longueur  nn  et  cc  un nombre réel."
   ]
  },
  {
   "cell_type": "code",
   "execution_count": 43,
   "metadata": {},
   "outputs": [],
   "source": [
    "#la fonction pr:\n",
    "from numpy import prod\n",
    "def pr(x,y,c):\n",
    "    S = [] \n",
    "    n = len(x)\n",
    "    \n",
    "    for j in range(n):\n",
    "        L =[c-xx for xx in x]\n",
    "        for k in range(n):\n",
    "            if (k == j):                \n",
    "                L[k] = 1\n",
    "            else:\n",
    "                L[k] = L[k]/(x[j] - x[k])   \n",
    "        S.append(y[j]*prod(L))\n",
    "        \n",
    "    return  sum(S)"
   ]
  },
  {
   "cell_type": "code",
   "execution_count": 44,
   "metadata": {},
   "outputs": [
    {
     "name": "stdout",
     "output_type": "stream",
     "text": [
      "-1.0\n",
      "0.0\n",
      "2.0\n",
      "1.0\n"
     ]
    },
    {
     "data": {
      "text/plain": [
       "10"
      ]
     },
     "execution_count": 44,
     "metadata": {},
     "output_type": "execute_result"
    }
   ],
   "source": [
    "\n",
    "X=[1 ,2 ,3 ,4];\n",
    "Y=[-1, 0, 2 ,1];\n",
    "for i in X:\n",
    "    print(pr(X,Y,i))\n",
    "sum(X)"
   ]
  },
  {
   "cell_type": "markdown",
   "metadata": {},
   "source": [
    "# => La fonction calcule le polynôme d'interpolation pour les vecteurs x et y pour l(x)= 10"
   ]
  },
  {
   "cell_type": "markdown",
   "metadata": {},
   "source": [
    "2) Que contient le vecteur  LL  après la fin de la boucle  kk ."
   ]
  },
  {
   "cell_type": "code",
   "execution_count": 45,
   "metadata": {},
   "outputs": [],
   "source": [
    "x=[1,2,3,4]\n",
    "y=[-1,0,2,1]"
   ]
  },
  {
   "cell_type": "code",
   "execution_count": 46,
   "metadata": {},
   "outputs": [],
   "source": [
    "from numpy import prod\n",
    "def pr_2(x,y,c):\n",
    "    S = [] \n",
    "    n = len(x)\n",
    "    for c in x:\n",
    "            for j in range(n):\n",
    "                L =[c-xx for xx in x]\n",
    "                for k in range(n):\n",
    "                    if (k == j):                \n",
    "                        L[k] = 1\n",
    "                    else:\n",
    "                        L[k] = L[k]/(x[j] - x[k])   \n",
    "                S.append(y[j]*prod(L))\n",
    "\n",
    "            return L"
   ]
  },
  {
   "cell_type": "code",
   "execution_count": 47,
   "metadata": {},
   "outputs": [
    {
     "name": "stdout",
     "output_type": "stream",
     "text": [
      "[0.0, -0.5, -2.0, 1]\n",
      "[0.0, -0.5, -2.0, 1]\n",
      "[0.0, -0.5, -2.0, 1]\n",
      "[0.0, -0.5, -2.0, 1]\n"
     ]
    }
   ],
   "source": [
    "for i in x:\n",
    "    print(pr_2(x,y,i))"
   ]
  },
  {
   "cell_type": "markdown",
   "metadata": {},
   "source": [
    "3) Utiliser cette fonction pour dessiner le graph du polynôme de Lagrange  de la fonction $f(x) = \\dfrac{1}{1 + x^2}$ aux points $x=[-1:0.1:1]$."
   ]
  },
     "metadata": {
      "needs_background": "light"
     },
     "output_type": "display_data"
    }
   ],
   "source": [
    "import numpy as np\n",
    "import matplotlib.pyplot as plt\n",
    "\n",
    "x=np.arange(-1,1,0.1)\n",
    "f=lambda x: 1/(1+x**2)\n",
    "y=f(x)\n",
    "pt=[]\n",
    "t=np.linspace(-1,1,100)\n",
    "for u in range(len(t)):\n",
    "    pt.append(pr(x,y,t[u]))\n",
    "\n",
    "plt.plot(t,pt,'r',x,y,'bo',t,f(t),'g')\n",
    "plt.show()"
   ]
  },
  {
   "cell_type": "markdown",
   "metadata": {},
   "source": [
    "4) On considère la fonction $F$ suivante :\n",
    "$$\n",
    "F(h) = \\pi -\\cos \\left(\\frac{h}{2}\\right) + h \\sqrt{1-\\left(\\frac{h}{2}\\right)^2}, \\qquad\n",
    "h\\in [0,2],\n",
    "$$\n",
    "et les points d'interpolation $x_i = ih$, $0\\leq i\\leq n$, avec $ n=20$ et $h=0.1$."
   ]
  },
  {
   "cell_type": "markdown",
   "metadata": {},
   "source": [
    "4.1) Représenter sur un même graphe la fonction $F$ et $p_n$, où\n",
    " $p_n$ est le polynôme d'interpolation de Lagrange de $F$ aux\n",
    " points $x_0,\\,\\ldots,\\,x_n$."
   ]
  },
  {
   "cell_type": "code",
   "execution_count": 49,
   "metadata": {},
   "outputs": [
    {
     "name": "stdout",
     "output_type": "stream",
     "text": [
      "[2.14159265 3.1300355  2.60129035]\n"
     ]
    },
     "metadata": {
      "needs_background": "light"
     },
     "output_type": "display_data"
    }
   ],
   "source": [
    "import math \n",
    "from numpy import linspace\n",
    "\n",
    "x=np.arange(0,3)\n",
    "f=lambda x: math.pi-math.cos(x/2)+x*math.sqrt(1-(x/2)**2)\n",
    "f_2=np.vectorize(f)\n",
    "y=f_2(x)\n",
    "print(y)\n",
    "pn=[]\n",
    "t=np.linspace(-1,1,100)\n",
    "for u in range(len(t)):\n",
    "     pn.append(pr(x,y,t[u]))\n",
    "\n",
    "plt.plot(t,pn,'r',x,y,'bo',t,f_2(t),'g')\n",
    "plt.show()\n",
    "    "
   ]
  },
  {
   "cell_type": "markdown",
   "metadata": {},
   "source": [
    "2)Tracer la courbe d'erreur  (la\n",
    " fonction $F-p_n$). Qu'observer vous."
   ]
  },
   ],
   "source": [
    "x=np.arange(0,3)\n",
    "f=lambda x: math.pi-math.cos(x/2)+x*math.sqrt(1-(x/2)**2)\n",
    "f_2=np.vectorize(f)\n",
    "y=f_2(x)\n",
    "pn=[]\n",
    "t=np.linspace(-1,1,100)\n",
    "for u in range(len(t)):\n",
    "     pn.append(pr(x,y,t[u]))\n",
    "\n",
    "plt.plot(t,f_2(t)-pn,'r')\n",
    "plt.show()\n",
    "    "
   ]
  },

