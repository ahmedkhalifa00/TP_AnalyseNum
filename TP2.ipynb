{
 "cells": [
  {
   "cell_type": "markdown",
   "id": "af627277-a7ff-4c25-8bb7-493759dec44b",
   "metadata": {},
   "source": [
    "<img src=\"images/isitcomlogo.png\" align=\"right\" width=\"167\" height=\"89\" >"
   ]
  },
  {
   "cell_type": "markdown",
   "id": "4af572b3-c214-4fcd-a98a-3aac502c3ae3",
   "metadata": {},
   "source": [
    "# <FONT color=\"#253186\">Compte Rendu TP2:</FONT>"
   ]
  },
  {
   "cell_type": "markdown",
   "id": "f5a16f85-d1bb-4851-85be-ce9c364839fd",
   "metadata": {},
   "source": [
    "## <FONT color=\"#4E93E5\">Réalisé par : Ahmed KHALIFA                                                                2DNI2</FONT>"
   ]
  },
  {
   "cell_type": "code",
   "execution_count": null,
   "id": "572cf368-9346-45e6-ad16-d6fa3ed8f6c6",
   "metadata": {},
   "outputs": [],
   "source": []
  }
 ],
 "metadata": {
  "kernelspec": {
   "display_name": "Python 3 (ipykernel)",
   "language": "python",
   "name": "python3"
  },
  "language_info": {
   "codemirror_mode": {
    "name": "ipython",
    "version": 3
   },
   "file_extension": ".py",
   "mimetype": "text/x-python",
   "name": "python",
   "nbconvert_exporter": "python",
   "pygments_lexer": "ipython3",
   "version": "3.7.10"
  }
 },
 "nbformat": 4,
 "nbformat_minor": 5
}
