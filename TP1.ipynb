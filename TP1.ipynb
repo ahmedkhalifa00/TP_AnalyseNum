{
 "cells": [
  {
   "cell_type": "markdown",
   "metadata": {},
   "source": [
    "</FONT> <img src=\"/images/isitcomlogo.png\" align=\"right\" width=\"167\" height=\"89\" >"
   ]
  },
  {
   "cell_type": "markdown",
   "metadata": {},
   "source": [
    "# <FONT color=\"#6464F6 \">Compte Rendu TP1:"
   ]
  },
  {
   "cell_type": "markdown",
   "metadata": {},
   "source": [
    "## <FONT color=\"#E0EC23\">Réalisé par : Ahmed KHALIFA                                                                2DNI2</FONT>"
   ]
  },
  {
   "cell_type": "markdown",
   "metadata": {},
   "source": [
    "## <span style=\"color:#B37518 \"> Exercice 1 :\n",
    "\n",
    "\n",
    ">On considère le polynôme $p(x) = (x - 1)^6$. \n",
    ">\n",
    ">En développant on\n",
    ">peut écrire ce même polynôme sous la forme\n",
    ">$f(x) = x^6 - 6x^5 + 15x^4 - 20x^3 + 15x^2 - 6x + 1.$\n",
    ">\n",
    ">1) Avec Matlab évaluer $p(x)$ et $f(x)$ pour $x$ allant de $.998$ à\n",
    ">$1.002$ en choisissant des pas de $.0001$.\n",
    ">\n",
    ">2) Faire un graphique de $f(x)$ et $p(x)$. Commenter.\n",
    "\n",
    "\n",
    "### **1. On va voir s'il y une difference entre les deux fonctions p(x) et f(x)**"
   ]
  },
  {
   "cell_type": "code",
   "execution_count": 1,
   "metadata": {},
   "outputs": [
    {
     "name": "stdout",
     "output_type": "stream",
     "text": [
      "avec x= 0.998\n",
      "6.400000000000034e-17\n",
      "1.7763568394002505e-15\n"
     ]
    }
   ],
   "source": [
    "#Déclaration de la fonction reduite: p(x)\n",
    "def p(x):\n",
    "    return (x-1)**6\n",
    "#Déclaration de la fonction développée: f(x)\n",
    "def f(x):\n",
    "    return x**6 - 6*x**5 +15*x**4 - 20*x**3 +15*x**2 - 6*x + 1\n",
    "print('avec x= 0.998')\n",
    "print(p(0.998))\n",
    "print(f(0.998))"
   ]
  },
  {
   "cell_type": "markdown",
   "metadata": {},
   "source": [
    "<span style=\"color:red \"> => les deux fonctions sont équivalentes mathématiquement mais ils n'ont pas la meme valeur ! "
   ]
  },
  {
   "cell_type": "markdown",
   "metadata": {},
   "source": [
    "**Mainetenant on va voir la difference entre les deux fonctions p(x) et f(x) avec x allant de 0.998 à 1.002 avec une pas de 0.0001**"
   ]
  },
  {
   "cell_type": "code",
   "execution_count": 2,
   "metadata": {},
   "outputs": [
    {
     "name": "stdout",
     "output_type": "stream",
     "text": [
      "Le résultat de la fonction réduite:\n",
      "p(i)= 6.400000000000034e-17\n",
      "p(i)= 4.70458810000019e-17\n",
      "p(i)= 3.40122240000027e-17\n",
      "p(i)= 2.4137569000002966e-17\n",
      "p(i)= 1.6777216000002883e-17\n",
      "p(i)= 1.139062500000259e-17\n",
      "p(i)= 7.52953600000219e-18\n",
      "p(i)= 4.826809000001757e-18\n",
      "p(i)= 2.985984000001342e-18\n",
      "p(i)= 1.771561000000975e-18\n",
      "p(i)= 1.0000000000006715e-18\n",
      "p(i)= 5.314410000004355e-19\n",
      "p(i)= 2.6214400000026335e-19\n",
      "p(i)= 1.1764900000014617e-19\n",
      "p(i)= 4.665600000007277e-20\n",
      "p(i)= 1.562500000003131e-20\n",
      "p(i)= 4.096000000010936e-21\n",
      "p(i)= 7.290000000027557e-22\n",
      "p(i)= 6.400000000038403e-23\n",
      "p(i)= 1.0000000000126618e-24\n",
      "p(i)= 1.1985091468012028e-94\n",
      "p(i)= 9.999999999860165e-25\n",
      "p(i)= 6.399999999953138e-23\n",
      "p(i)= 7.289999999962809e-22\n",
      "p(i)= 4.095999999983651e-21\n",
      "p(i)= 1.562499999994804e-20\n",
      "p(i)= 4.6655999999865574e-20\n",
      "p(i)= 1.1764899999969834e-19\n",
      "p(i)= 2.6214399999939023e-19\n",
      "p(i)= 5.314409999988621e-19\n",
      "p(i)= 9.99999999998007e-19\n",
      "p(i)= 1.7715609999966836e-18\n",
      "p(i)= 2.9859839999947116e-18\n",
      "p(i)= 4.826808999991864e-18\n",
      "p(i)= 7.52953599998786e-18\n",
      "p(i)= 1.1390624999982356e-17\n",
      "p(i)= 1.6777215999974943e-17\n",
      "p(i)= 2.4137568999965134e-17\n",
      "p(i)= 3.401222399995235e-17\n",
      "p(i)= 4.704588099993592e-17\n",
      "p(i)= 6.399999999991508e-17\n",
      "            \n",
      "Le résultat de la fonction développée:\n",
      "            \n",
      "f(i)=  1.7763568394002505e-15\n",
      "f(i)=  1.7763568394002505e-15\n",
      "f(i)=  0.0\n",
      "f(i)=  -2.6645352591003757e-15\n",
      "f(i)=  1.7763568394002505e-15\n",
      "f(i)=  0.0\n",
      "f(i)=  -1.7763568394002505e-15\n",
      "f(i)=  8.881784197001252e-16\n",
      "f(i)=  1.7763568394002505e-15\n",
      "f(i)=  -3.552713678800501e-15\n",
      "f(i)=  0.0\n",
      "f(i)=  -2.6645352591003757e-15\n",
      "f(i)=  0.0\n",
      "f(i)=  0.0\n",
      "f(i)=  -1.7763568394002505e-15\n",
      "f(i)=  -8.881784197001252e-16\n",
      "f(i)=  0.0\n",
      "f(i)=  1.7763568394002505e-15\n",
      "f(i)=  -1.7763568394002505e-15\n",
      "f(i)=  2.6645352591003757e-15\n",
      "f(i)=  0.0\n",
      "f(i)=  -1.7763568394002505e-15\n",
      "f(i)=  -1.7763568394002505e-15\n",
      "f(i)=  -4.440892098500626e-15\n",
      "f(i)=  -1.7763568394002505e-15\n",
      "f(i)=  5.329070518200751e-15\n",
      "f(i)=  0.0\n",
      "f(i)=  -2.6645352591003757e-15\n",
      "f(i)=  1.7763568394002505e-15\n",
      "f(i)=  -3.552713678800501e-15\n",
      "f(i)=  -3.552713678800501e-15\n",
      "f(i)=  8.881784197001252e-16\n",
      "f(i)=  1.7763568394002505e-15\n",
      "f(i)=  -1.7763568394002505e-15\n",
      "f(i)=  0.0\n",
      "f(i)=  2.6645352591003757e-15\n",
      "f(i)=  0.0\n",
      "f(i)=  1.7763568394002505e-15\n",
      "f(i)=  0.0\n",
      "f(i)=  2.6645352591003757e-15\n",
      "f(i)=  1.7763568394002505e-15\n",
      "----------------\n",
      "Est-ce que les deux fonctions donnent le meme résultat?\n",
      "non\n"
     ]
    }
   ],
   "source": [
    "import numpy\n",
    "print('Le résultat de la fonction réduite:')\n",
    "for i in numpy.arange(0.998, 1.002,0.0001):\n",
    "    print('p(i)=' , p(i))\n",
    "print('            ')\n",
    "print('Le résultat de la fonction développée:')\n",
    "print('            ')\n",
    "for i in numpy.arange(0.998, 1.002,0.0001):\n",
    "    print('f(i)= ' , f(i))\n",
    "print('----------------')\n",
    "print('Est-ce que les deux fonctions donnent le meme résultat?')\n",
    "if p(i)==f(i):\n",
    "    print('oui')\n",
    "else:\n",
    "    print('non')\n",
    "    "
   ]
  },
  {
   "cell_type": "markdown",
   "metadata": {},
   "source": [
    "<span style=\"color:red \"> => L'arrodissement cause un erreur de calcul"
   ]
  },
  {
   "cell_type": "markdown",
   "metadata": {},
   "source": [
    "**2. Le graphe de deux fonction p(x) et f(x)**"
   ]
  },
  {
   "cell_type": "code",
   "execution_count": 3,
   "metadata": {},
   "outputs": [
    {
     "data": {
      "text/plain": [
       "<Figure size 1000x600 with 1 Axes>"
      ]
     },
     "metadata": {},
     "output_type": "display_data"
    }
   ],
   "source": [
    "import matplotlib.pyplot as plt\n",
    "import numpy as np\n",
    "x = np.arange(0.998, 1.002, 0.0001)\n",
    "fig = plt.figure(1, figsize=(10, 6))\n",
    "plt.plot(x,p(x))\n",
    "fig=plt.figure(1, figsize=(10 , 6))\n",
    "plt.plot(x,f(x))\n",
    "plt.xlabel('x')\n",
    "plt.ylabel('p(x) et f(x)')\n",
    "plt.title('Les courbes des deux fonctions p(x) et f(x) ')\n",
    "plt.legend(('p(x)', 'f(x)'), loc='upper center', shadow=False)\n",
    "plt.grid(True)   \n",
    "plt.show()"
   ]
  },
  {
   "cell_type": "markdown",
   "metadata": {},
   "source": [
    "<div class=\"alert alert-block alert-danger\"> <span style=\"color:'black'\">\n",
    "Les erreurs d'arrondi se propagent au cours des calculs avec des valeurs approchées ce qui peut augmenter l'erreur du résultat final.\n",
    "\n",
    "\n",
    " - En informatique, les ordinateurs représentent les nombres réels sur un nombre fini de bits (représentation en nombre réels à virgule flottante), ce qui ne permet la représentation exacte que d'un petit sous-ensemble des réels. Ainsi, la plupart des calculs conduisent à des résultats approchés qui résultent de la finitude de la représentation. </span></div>\n",
    "\n"
   ]
  },
  {
   "cell_type": "markdown",
   "metadata": {},
   "source": [
    "## <span style=\"color:#B37518 \"> Exercice 2 :\n",
    "\n",
    ">On considère l'équation : $$ f(x)=x^3+x^2-3x-3=0$$\n",
    ">1) Dessiner la courbe de $f$ dans l'intervalle $[-2;2]$, puis trouver des intervalles convenables pour appliquer la méthode de >bisection.\n",
    ">\n",
    ">2) Utiliser un programme `dicho.m` qui permettra de trouver les solutions de l'équation $f(x)=0$ avec $eps=0.001$.\n",
    ">\n",
    ">3) Modifier le programme `dicho.m` pour qu'il donne le nombre d'itération nécessaire pour avoir la solution à $eps$ près.\n"
   ]
  },
  {
   "cell_type": "markdown",
   "metadata": {},
   "source": [
    "**1. La courbe de f dans l'intervalle [-2;2]**"
   ]
  },
  {
   "cell_type": "code",
   "execution_count": 4,
   "metadata": {},
   "outputs": [
    {
     "data": {
      "text/plain": [
       "[<matplotlib.lines.Line2D at 0x1a20737cac8>]"
      ]
     },
     "execution_count": 4,
     "metadata": {},
     "output_type": "execute_result"
    },
    {
     "data": {
      "image/png": "[encoded data removed]",
      "text/plain": [
       "<Figure size 432x288 with 1 Axes>"
      ]
     },
     "metadata": {
      "needs_background": "light"
     },
     "output_type": "display_data"
    }
   ],
   "source": [
    "import matplotlib.pyplot as plt\n",
    "from numpy import linspace\n",
    "f=lambda x: x**3+x**2-3*x-3\n",
    "T=linspace(-2,2,41)\n",
    "plt.title(\"solution dans [-2:2] \");\n",
    "plt.xlabel(\"x\")\n",
    "plt.ylabel (\"f(x)\")\n",
    "plt.grid(True)\n",
    "plt.plot(T,f(T))"
   ]
  },
  {
   "cell_type": "markdown",
   "metadata": {},
   "source": [
    "D'aprés le graphe on remaque qu'il y a trois solution:\n",
    "- $\\alpha_1 \\in ]-2;-1.5[$ \n",
    "- $\\alpha_2 \\in ]-1.5;-0.5[$ \n",
    "- $\\alpha_3 \\in ]1.5;2[$ "
   ]
  },
  {
   "cell_type": "markdown",
   "metadata": {},
   "source": [
    "**2. Ecrire un programme dicho.m qui permettra de trouver les solutions de l'équation  𝑓(𝑥)=0  avec  𝑒𝑝𝑠=0.001**"
   ]
  },
  {
   "cell_type": "code",
   "execution_count": 5,
   "metadata": {},
   "outputs": [],
   "source": [
    "\n",
    "def dicho(a,b,f,eps):\n",
    "    \n",
    "    while (b-a)>eps:\n",
    "        m=(a+b)/2\n",
    "        if f(m)==0:\n",
    "            return m\n",
    "        if f(a)*f(m)<0 :\n",
    "            b=m\n",
    "        else :\n",
    "            a=m\n",
    "    return m"
   ]
  },
  {
   "cell_type": "code",
   "execution_count": 6,
   "metadata": {},
   "outputs": [
    {
     "ename": "SyntaxError",
     "evalue": "unexpected EOF while parsing (<ipython-input-6-609c24bd429e>, line 3)",
     "output_type": "error",
     "traceback": [
      "\u001b[1;36m  File \u001b[1;32m\"<ipython-input-6-609c24bd429e>\"\u001b[1;36m, line \u001b[1;32m3\u001b[0m\n\u001b[1;33m    print('sol1=',dicho(-2,-1.5,f,0.001)\u001b[0m\n\u001b[1;37m                                        ^\u001b[0m\n\u001b[1;31mSyntaxError\u001b[0m\u001b[1;31m:\u001b[0m unexpected EOF while parsing\n"
     ]
    }
   ],
   "source": [
    "\n",
    "f=lambda x: x**3+x**2-3*x-3\n",
    "print('sol1=',dicho(-2,-1.5,f,0.001)"
   ]
  },
  {
   "cell_type": "code",
   "execution_count": null,
   "metadata": {},
   "outputs": [],
   "source": [
    "\n",
    "print('sol2=',dicho(-1.5,-0.5,f,0.001))\n",
    "print('sol3=' , dicho(1.5,2,f,0.001))"
   ]
  },
  {
   "cell_type": "markdown",
   "metadata": {},
   "source": [
    "**3. Ecrire une fonction qui permet de renvoyer le nombre d'itération nécessaire à la méthode de dichotomie pour calculer\n",
    "la solution à 10^-p près**"
   ]
  },
  {
   "cell_type": "code",
   "execution_count": null,
   "metadata": {},
   "outputs": [],
   "source": [
    "def dichow(a,b,f,eps):\n",
    "    cp=0\n",
    "    while (b-a)>eps:\n",
    "        m=(a+b)/2\n",
    "        if f(m)==0:\n",
    "            return m\n",
    "        if f(a)*f(m)<0 :\n",
    "            b=m\n",
    "        else :\n",
    "            a=m\n",
    "        cp+=1\n",
    "    return m,cp"
   ]
  },
  {
   "cell_type": "code",
   "execution_count": null,
   "metadata": {},
   "outputs": [],
   "source": [
    "\n",
    "f=lambda x: x**3+x**2-3*x-3\n",
    "dichow(-2,-1.5,f,0.001)"
   ]
  },
  {
   "cell_type": "markdown",
   "metadata": {},
   "source": [
    "**Le nombre d'itération N nécéssaire à la méthode de la dichotomie pour trouver $\\alpha$ à $10^{-p}$ prés**\n",
    "\n",
    "$$N \\geq E\\left(\\dfrac{\\ln(b-a)+p\\ln(10)}{\\ln(2)}\\right)+1$$"
   ]
  },
  {
   "cell_type": "markdown",
   "metadata": {},
   "source": [
    "##  <span style=\"color:green \"> Interpretation :"
   ]
  },
  {
   "cell_type": "markdown",
   "metadata": {},
   "source": [
    "\n",
    "<div class=\"alert alert-success\"> <span style=\"color:#black\">Le principal avantage pratique de la méthode de <strong>la dichotomie</strong> est sa robustesse, puisque si f est continue, alors l'algorithme est théoriquement convergent (la taille de l'intervalle de recherche tend vers zéro). Le principal défaut de l'algorithme est que seul le signe de f est utilisé, ce qui mène à une convergence plutôt lente (convergence quasiment linéaire).</span></div>"
   ]
  },
  {
   "cell_type": "markdown",
   "metadata": {},
   "source": [
    "## <span style=\"color:#B37518 \"> Exercice 3 :\n",
    "    \n",
    ">On considère l'équation : $$ f(x)=x^3+4x^2-10=0$$\n",
    ">1) Dessiner la courbe de $f$ dans l'intervalle $[1;2]$, puis trouver une valeur approché de la solution à 0.001 près (En >utilisant la fonction zoom du graphique).\n",
    ">\n",
    ">2) Vérifier que cette équation est équivalente aux 3 schéma du point fixe suivant:\n",
    ">\n",
    ">a) $g_1(x)=\\frac{1}{2}\\sqrt{10-x^3}=x$.\n",
    ">\n",
    ">b) $g_2(x)=\\sqrt{\\displaystyle\\frac{10}{4+x}}=x$.\n",
    ">\n",
    ">c) $g_3(x)=x-x^3-4x^2+10=x$.\n",
    ">\n",
    ">3) Ecrire puis appliquer  une fonction Matlab que l'on appellera  `pointfixe.m` aux trois schémas précédents en prenant >`x0=1.5;eps=0.001`.\n",
    ">\n",
    ">4) Quelle est la fonction (parmi $g_1, g_2$ et $g_3$) qui donne la convergence la plus rapide?"
   ]
  },
  {
   "cell_type": "markdown",
   "metadata": {},
   "source": [
    "**Pour: $$f(x)=x^3+4x^2-10=0$$**"
   ]
  },
  {
   "cell_type": "markdown",
   "metadata": {},
   "source": [
    "**1. La courbe de f dans l'itervalle [1;2]**"
   ]
  },
  {
   "cell_type": "code",
   "execution_count": null,
   "metadata": {},
   "outputs": [],
   "source": [
    "%matplotlib inline\n",
    "\n",
    "import numpy as np \n",
    "import matplotlib.pyplot as plt\n",
    "\n",
    "f=lambda x:x**3+4*x**2-10\n",
    "\n",
    "t=np.linspace(1,2,100)\n",
    "plt.subplot(2,2,1)\n",
    "plt.plot(t,f(t),'r')\n",
    "plt.grid(True)\n",
    "##########################################\n",
    "t=np.linspace(1.2,1.4,100)\n",
    "plt.subplot(2,2,2)\n",
    "plt.plot(t,f(t),'r')\n",
    "plt.grid(True)\n",
    "##########################################\n",
    "t=np.linspace(1.35,1.4,100)\n",
    "plt.subplot(2,2,3)\n",
    "plt.plot(t,f(t),'r')\n",
    "plt.grid(True)\n",
    "#########################################\n",
    "t=np.linspace(1.365,1.367,100)\n",
    "plt.subplot(2,2,4)\n",
    "plt.plot(t,f(t),'r')\n",
    "plt.grid(True)\n"
   ]
  },
  {
   "cell_type": "markdown",
   "metadata": {},
   "source": [
    "**2. Vérification que f(x) est équivalente à g1(x):**\n",
    "\n",
    "    "
   ]
  },
  {
   "cell_type": "markdown",
   "metadata": {},
   "source": [
    "a)$g(x)=\\frac{1}{2}\\sqrt{10-x^3}=x$."
   ]
  },
  {
   "cell_type": "markdown",
   "metadata": {},
   "source": [
    " $$x^3+4x^2-10=0$$ \n",
    "    \n",
    " $$4x^2=10-x^3$$\n",
    " \n",
    " $$2x=\\sqrt{10-x^3}$$\n",
    " \n",
    " $$x=\\frac{1}{2}\\sqrt{10-x^3}$$\n",
    " \n",
    "Donc $ f(x)=g(x)$"
   ]
  },
  {
   "cell_type": "markdown",
   "metadata": {},
   "source": [
    "## Calcul symbolique de la dérivée"
   ]
  },
  {
   "cell_type": "code",
   "execution_count": null,
   "metadata": {},
   "outputs": [],
   "source": [
    "from sympy import *\n",
    "import numpy as np\n",
    "x, y, z = symbols('x y z')\n",
    "init_printing(use_unicode=True)\n",
    "g1=lambda x: 1/2*sqrt(10-x**3)\n"
   ]
  },
  {
   "cell_type": "code",
   "execution_count": null,
   "metadata": {},
   "outputs": [],
   "source": [
    "dg1=lambdify(x,diff(g1(x),x,1))\n",
    "dg1(1.365)"
   ]
  },
  {
   "cell_type": "markdown",
   "metadata": {},
   "source": [
    "### Que pouvez vous conclure à propos des convergences de g1"
   ]
  },
  {
   "cell_type": "markdown",
   "metadata": {},
   "source": [
    "<div class=\"alert alert-block alert-danger\"> <span style=\"color:'black'\">La valeur absolue de la dérivée de g1($\\alpha$) < 1 donc g1 converge </span></div>"
   ]
  },
  {
   "cell_type": "markdown",
   "metadata": {},
   "source": [
    "b) $g(x)=\\sqrt{\\displaystyle\\frac{10}{4+x}}=x$."
   ]
  },
  {
   "cell_type": "markdown",
   "metadata": {},
   "source": [
    "$$x^3+4x^2-10=0$$\n",
    "$$x^3+4x^2=10$$\n",
    "$$x^2(x+4)=10$$\n",
    "$$x^2=\\frac{10}{x+4}$$\n",
    "$$x=\\sqrt{\\displaystyle\\frac{10}{4+x}}$$\n",
    "Donc $ f(x)=g(x)$"
   ]
  },
  {
   "cell_type": "code",
   "execution_count": null,
   "metadata": {},
   "outputs": [],
   "source": [
    "from sympy import *\n",
    "import numpy as np\n",
    "x, y, z = symbols('x y z')\n",
    "init_printing(use_unicode=True)\n",
    "g2=lambda x: sqrt(10/(x+4))"
   ]
  },
  {
   "cell_type": "code",
   "execution_count": null,
   "metadata": {},
   "outputs": [],
   "source": [
    "dg2=lambdify(x,diff(g2(x),x,1))\n",
    "dg2(1.365)"
   ]
  },
  {
   "cell_type": "markdown",
   "metadata": {},
   "source": [
    "<div class=\"alert alert-block alert-danger\"> <span style=\"color:'black'\">La valeur absolue de la dérivée de g2($\\alpha$)   < 1 donc g2 converge </span></div>"
   ]
  },
  {
   "cell_type": "markdown",
   "metadata": {},
   "source": [
    "c) $g(x)=x-x^3-4x^2+10=x$."
   ]
  },
  {
   "cell_type": "markdown",
   "metadata": {},
   "source": [
    "$$x^3+4x^2-10=0$$\n",
    "$$x^3+4x^2-10+x-x=0$$\n",
    "$$x^3-4x^2+x-x=10$$\n",
    "$$x^3-4x^2+x=x+10$$\n",
    "$$4x^2+x=x-x^3+10$$\n",
    "$$x=x-x^3-4x^2+10$$\n",
    "Donc $ f(x)=g(x)$"
   ]
  },
  {
   "cell_type": "code",
   "execution_count": null,
   "metadata": {},
   "outputs": [],
   "source": [
    "from sympy import *\n",
    "import numpy as np\n",
    "x, y, z = symbols('x y z')\n",
    "init_printing(use_unicode=True)\n",
    "g3=lambda x: x-x**3-4*x**2+10"
   ]
  },
  {
   "cell_type": "code",
   "execution_count": null,
   "metadata": {},
   "outputs": [],
   "source": [
    "dg3=lambdify(x,diff(g3(x),x,1))\n",
    "dg3(1.365)"
   ]
  },
  {
   "cell_type": "markdown",
   "metadata": {},
   "source": [
    "<div class=\"alert alert-block alert-danger\"> <span style=\"color:'black'\">La valeur absolue de la dérivée de g3(𝛼\n",
    ") > 1 donc g3 diverge </span></div>"
   ]
  },
  {
   "cell_type": "markdown",
   "metadata": {},
   "source": [
    "**3. Le code en Python**\n",
    "\n",
    "    "
   ]
  },
  {
   "cell_type": "code",
   "execution_count": null,
   "metadata": {},
   "outputs": [],
   "source": [
    "import math\n",
    "f=lambda x:  x**3+4*x**2-10 # la fonction f\n",
    "g1=lambda x: 1/2*(math.sqrt(10-x**3))\n",
    "g2=lambda x: math.sqrt(10/(x+4))\n",
    "g3=lambda x: x-x**3-4*x**2 + 10\n",
    "\n",
    "\n",
    "def ptfixe(g,x0,eps,nmax):\n",
    "    zero=x0\n",
    "    for i in range(nmax):\n",
    "        x=zero \n",
    "        zero=g(x)\n",
    "        erreur=abs(zero-x)\n",
    "        print(zero)\n",
    "        if erreur<eps:\n",
    "            return zero,i\n",
    "    print('pas de convergence avec le nombre d''iteration indique')"
   ]
  },
  {
   "cell_type": "code",
   "execution_count": null,
   "metadata": {},
   "outputs": [],
   "source": [
    "ptfixe(g1,1.5,0.001,50)"
   ]
  },
  {
   "cell_type": "code",
   "execution_count": null,
   "metadata": {},
   "outputs": [],
   "source": [
    "ptfixe(g2,1.5,0.001,50)"
   ]
  },
  {
   "cell_type": "code",
   "execution_count": null,
   "metadata": {},
   "outputs": [],
   "source": [
    "ptfixe(g3,1.5,0.001,50)"
   ]
  },
  {
   "cell_type": "markdown",
   "metadata": {},
   "source": [
    "### quelle est la fonction qui donne la convergence la plus rapide ??\n",
    "\n",
    "####  <span style=\"color:#F5B041 \"> La fonction qui donne la convergence la plus rapide est  $g_2$ </span>\n",
    "+ $g_2$ donne le resultat en 4 itérations seulement alors que\n",
    "+ $g_1$ donne le resultat en 10 itérations \n",
    "+ $g_3$ n'est pas convergente\n"
   ]
  },
  {
   "cell_type": "markdown",
   "metadata": {},
   "source": [
    "## <span style=\"color:green \"> Interpretation :"
   ]
  },
  {
   "cell_type": "markdown",
   "metadata": {},
   "source": [
    "\n",
    "<div class=\"alert alert-success\"> <span style=\"color:#black\">Avantage de la méthode du point fixe : C’est une méthode beaucoup plus rapide que la mthode de dichotomie</span></div>"
   ]
  },
  {
   "cell_type": "markdown",
   "metadata": {},
   "source": [
    "## <span style=\"color:#B37518 \"> Exercice 4 :"
   ]
  },
  {
   "cell_type": "markdown",
   "metadata": {},
   "source": [
    ">1) On considère la fonction $f(x)=e^{-x}-x$. Ecrire puis appliquer  une fonction Matlab que l'on appellera `newton.m` à la >fonction $f$, en prenant $x0=0$, $eps=0.001$ .\n",
    ">\n",
    ">2) Montrer que l'équation $f(x)=0$ admet une solution unique que l'on peut obtenir en utilisant la méthode de Newton à partir >de $x0=1$."
   ]
  },
  {
   "cell_type": "markdown",
   "metadata": {},
   "source": [
    "**1. On considère la fonction $f(x)=e^{-x}-x$. Ecrire puis appliquer  une fonction Pythob que l'on appellera `newton.m` à la >fonction $f$, en prenant $x0=0$, $eps=0.001$.**"
   ]
  },
  {
   "cell_type": "code",
   "execution_count": null,
   "metadata": {},
   "outputs": [],
   "source": [
    "def newton(f,fprime,a,eps):\n",
    "    x1=a\n",
    "    x2=x1-(f(x1)/fprime(x1))\n",
    "    while abs(x1-x2)>eps :\n",
    "        x1=x2\n",
    "        x2=x1-(f(x1)/fprime(x1))\n",
    "        m=x2\n",
    "    return m"
   ]
  },
  {
   "cell_type": "code",
   "execution_count": null,
   "metadata": {},
   "outputs": [],
   "source": [
    "import math\n",
    "from sympy import *\n",
    "from sympy.abc import x\n",
    "\n",
    "f=lambda x: math.exp(-x)-x\n",
    "fprime=lambda x: -math.exp(-x)-1\n",
    "newton(f,fprime,0,0.001)"
   ]
  },
  {
   "cell_type": "markdown",
   "metadata": {},
   "source": []
  },
  {
   "cell_type": "code",
   "execution_count": null,
   "metadata": {},
   "outputs": [],
   "source": [
    "newton(f,fprime,1,0.001)"
   ]
  },
  {
   "cell_type": "markdown",
   "metadata": {},
   "source": [
    "<span style=\"color:red \"> => $f(x)=0$ admet une solution unique que l'on peut obtenir en utilisant la méthode de Newton à partir >de $x0=1$."
   ]
  },
  {
   "cell_type": "markdown",
   "metadata": {},
   "source": [
    "## <span style=\"color:green \"> Interpretation :"
   ]
  },
  {
   "cell_type": "markdown",
   "metadata": {},
   "source": [
    "\n",
    "<div class=\"alert alert-success\"> <span style=\"color:#black\">La méthode de newton est une cas particulier de la méthode de point fixe</span></div>"
   ]
  },
  {
   "cell_type": "markdown",
   "metadata": {},
   "source": [
    ">- <strong>Avantages de la méthode :</strong> s’il y a convergence, celle-ci est rapide (souvent quadratique), elle nécessite un seul point de départ.\n",
    ">- <strong>Inconvénients de la méthode :</strong> f doit être suffisamment régulière, la convergence n’est pas assurée dans tous\n",
    "les cas, s’il y a plusieurs racines elle ne converge par forcément vers la plus proche du point de départ."
   ]
  },
  {
   "cell_type": "code",
   "execution_count": null,
   "metadata": {},
   "outputs": [],
   "source": []
  }
 ],
 "metadata": {
  "kernelspec": {
   "display_name": "Python 3",
   "language": "python",
   "name": "python3"
  },
  "language_info": {
   "codemirror_mode": {
    "name": "ipython",
    "version": 3
   },
   "file_extension": ".py",
   "mimetype": "text/x-python",
   "name": "python",
   "nbconvert_exporter": "python",
   "pygments_lexer": "ipython3",
   "version": "3.7.0"
  }
 },
 "nbformat": 4,
 "nbformat_minor": 4
}
